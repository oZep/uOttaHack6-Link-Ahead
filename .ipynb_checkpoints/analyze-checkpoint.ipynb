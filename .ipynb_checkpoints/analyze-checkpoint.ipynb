{
 "cells": [
  {
   "cell_type": "code",
   "execution_count": 74,
   "id": "1c0bedae",
   "metadata": {},
   "outputs": [],
   "source": [
    "import matplotlib\n",
    "import matplotlib.pyplot as plt\n",
    "import numpy as np\n",
    "import statistics\n",
    "import pandas as pd\n",
    "import matplotlib.pyplot as plt\n",
    "import csv"
   ]
  },
  {
   "cell_type": "code",
   "execution_count": 75,
   "id": "4a9413df",
   "metadata": {
    "scrolled": true
   },
   "outputs": [
    {
     "name": "stdout",
     "output_type": "stream",
     "text": [
      "        qty_dot_url  qty_hyphen_url  qty_underline_url  qty_slash_url  \\\n",
      "0                 1               0                  0              1   \n",
      "1                 2               5                  4              2   \n",
      "2                 2               0                  0              0   \n",
      "3                 1               1                  0              2   \n",
      "4                 2               1                  0              0   \n",
      "...             ...             ...                ...            ...   \n",
      "129693            3               1                  0              0   \n",
      "129694            2               0                  0              0   \n",
      "129695            2               1                  0              5   \n",
      "129696            2               0                  0              1   \n",
      "129697            2               0                  0              0   \n",
      "\n",
      "        qty_questionmark_url  qty_equal_url  qty_at_url  qty_and_url  \\\n",
      "0                          0              0           0            0   \n",
      "1                          0              0           0            0   \n",
      "2                          0              0           0            0   \n",
      "3                          0              0           0            0   \n",
      "4                          0              0           0            0   \n",
      "...                      ...            ...         ...          ...   \n",
      "129693                     0              0           0            0   \n",
      "129694                     0              0           0            0   \n",
      "129695                     0              0           0            0   \n",
      "129696                     0              0           0            0   \n",
      "129697                     0              0           0            0   \n",
      "\n",
      "        qty_exclamation_url  qty_space_url  ...  qty_ip_resolved  \\\n",
      "0                         0              0  ...                2   \n",
      "1                         0              0  ...                2   \n",
      "2                         0              0  ...                2   \n",
      "3                         0              0  ...                1   \n",
      "4                         0              0  ...                1   \n",
      "...                     ...            ...  ...              ...   \n",
      "129693                    0              0  ...                1   \n",
      "129694                    0              0  ...                1   \n",
      "129695                    0              0  ...                1   \n",
      "129696                    0              0  ...                1   \n",
      "129697                    0              0  ...                1   \n",
      "\n",
      "        qty_nameservers  qty_mx_servers  ttl_hostname  tls_ssl_certificate  \\\n",
      "0                     2               5           292                    0   \n",
      "1                     4               2            52                    0   \n",
      "2                     2               0           298                    1   \n",
      "3                     2               5          1792                    0   \n",
      "4                     2               1           299                    1   \n",
      "...                 ...             ...           ...                  ...   \n",
      "129693                3               1          3597                    0   \n",
      "129694                2               2           591                    0   \n",
      "129695                2               5         14391                    1   \n",
      "129696                1               1            52                    1   \n",
      "129697                4               0           299                    0   \n",
      "\n",
      "        qty_redirects  url_google_index  domain_google_index  url_shortened  \\\n",
      "0                  -1                 0                    0              0   \n",
      "1                   1                 0                    0              0   \n",
      "2                   1                 0                    0              0   \n",
      "3                   0                 0                    0              0   \n",
      "4                   1                 0                    0              0   \n",
      "...               ...               ...                  ...            ...   \n",
      "129693              0                 0                    0              0   \n",
      "129694              2                 0                    0              0   \n",
      "129695              0                 0                    0              0   \n",
      "129696              0                 0                    0              0   \n",
      "129697              0                 0                    0              0   \n",
      "\n",
      "        phishing  \n",
      "0              1  \n",
      "1              1  \n",
      "2              0  \n",
      "3              1  \n",
      "4              0  \n",
      "...          ...  \n",
      "129693         0  \n",
      "129694         0  \n",
      "129695         1  \n",
      "129696         1  \n",
      "129697         0  \n",
      "\n",
      "[129698 rows x 112 columns]\n"
     ]
    }
   ],
   "source": [
    "df = pd.read_csv('./dataset_cybersecurity_michelle.csv')\n",
    "print(df)"
   ]
  },
  {
   "cell_type": "code",
   "execution_count": 76,
   "id": "68669207",
   "metadata": {},
   "outputs": [
    {
     "name": "stdout",
     "output_type": "stream",
     "text": [
      "        qty_dot_url  qty_hyphen_url  qty_underline_url  qty_slash_url  \\\n",
      "0                 1               0                  0              1   \n",
      "1                 2               5                  4              2   \n",
      "3                 1               1                  0              2   \n",
      "6                 3               2                  4              5   \n",
      "7                 2               0                  0              3   \n",
      "...             ...             ...                ...            ...   \n",
      "129686            2               1                  0              3   \n",
      "129688            3               1                  0              2   \n",
      "129689            2               1                  0              4   \n",
      "129695            2               1                  0              5   \n",
      "129696            2               0                  0              1   \n",
      "\n",
      "        qty_questionmark_url  qty_equal_url  qty_at_url  qty_and_url  \\\n",
      "0                          0              0           0            0   \n",
      "1                          0              0           0            0   \n",
      "3                          0              0           0            0   \n",
      "6                          0              2           0            1   \n",
      "7                          0              0           0            0   \n",
      "...                      ...            ...         ...          ...   \n",
      "129686                     0              0           0            0   \n",
      "129688                     0              0           0            0   \n",
      "129689                     0              0           0            0   \n",
      "129695                     0              0           0            0   \n",
      "129696                     0              0           0            0   \n",
      "\n",
      "        qty_exclamation_url  qty_space_url  ...  qty_ip_resolved  \\\n",
      "0                         0              0  ...                2   \n",
      "1                         0              0  ...                2   \n",
      "3                         0              0  ...                1   \n",
      "6                         0              0  ...                1   \n",
      "7                         0              0  ...                1   \n",
      "...                     ...            ...  ...              ...   \n",
      "129686                    0              0  ...                1   \n",
      "129688                    0              0  ...                1   \n",
      "129689                    0              0  ...                1   \n",
      "129695                    0              0  ...                1   \n",
      "129696                    0              0  ...                1   \n",
      "\n",
      "        qty_nameservers  qty_mx_servers  ttl_hostname  tls_ssl_certificate  \\\n",
      "0                     2               5           292                    0   \n",
      "1                     4               2            52                    0   \n",
      "3                     2               5          1792                    0   \n",
      "6                     4               0            45                    1   \n",
      "7                     4               5            71                    1   \n",
      "...                 ...             ...           ...                  ...   \n",
      "129686                2               2          3598                    0   \n",
      "129688                2               2            55                    1   \n",
      "129689                2               1           899                    1   \n",
      "129695                2               5         14391                    1   \n",
      "129696                1               1            52                    1   \n",
      "\n",
      "        qty_redirects  url_google_index  domain_google_index  url_shortened  \\\n",
      "0                  -1                 0                    0              0   \n",
      "1                   1                 0                    0              0   \n",
      "3                   0                 0                    0              0   \n",
      "6                   0                 0                    0              0   \n",
      "7                   0                 0                    0              0   \n",
      "...               ...               ...                  ...            ...   \n",
      "129686              0                 0                    0              0   \n",
      "129688              0                 0                    0              0   \n",
      "129689              0                 0                    0              0   \n",
      "129695              0                 0                    0              0   \n",
      "129696              0                 0                    0              0   \n",
      "\n",
      "        phishing  \n",
      "0              1  \n",
      "1              1  \n",
      "3              1  \n",
      "6              1  \n",
      "7              1  \n",
      "...          ...  \n",
      "129686         1  \n",
      "129688         1  \n",
      "129689         1  \n",
      "129695         1  \n",
      "129696         1  \n",
      "\n",
      "[52152 rows x 112 columns]\n"
     ]
    }
   ],
   "source": [
    "df_new = df[df['phishing'] == 1]\n",
    "print(df_new)"
   ]
  },
  {
   "cell_type": "code",
   "execution_count": 77,
   "id": "37607fee",
   "metadata": {},
   "outputs": [],
   "source": [
    "def createHist(key):\n",
    "    df[key].hist( bins=25, density=True, alpha=0.6, color='b')\n",
    "    plt.title('Distribution of ' + key)"
   ]
  },
  {
   "cell_type": "code",
   "execution_count": 80,
   "id": "f26619bf",
   "metadata": {},
   "outputs": [
    {
     "data": {
      "image/png": "[encoded data removed]",
      "text/plain": [
       "<Figure size 640x480 with 1 Axes>"
      ]
     },
     "metadata": {},
     "output_type": "display_data"
    }
   ],
   "source": [
    "show = k[5]\n",
    "k = df_new.keys()\n",
    "createHist(show)   "
   ]
  },
  {
   "cell_type": "code",
   "execution_count": 82,
   "id": "e2e752fc",
   "metadata": {},
   "outputs": [
    {
     "ename": "AttributeError",
     "evalue": "'DataFrame' object has no attribute 'key'",
     "output_type": "error",
     "traceback": [
      "\u001b[0;31m---------------------------------------------------------------------------\u001b[0m",
      "\u001b[0;31mAttributeError\u001b[0m                            Traceback (most recent call last)",
      "\u001b[0;32m/var/folders/4t/2prlkvnx6vn1_ng5d7s7hdgm0000gn/T/ipykernel_64095/3939457044.py\u001b[0m in \u001b[0;36m?\u001b[0;34m()\u001b[0m\n\u001b[0;32m----> 2\u001b[0;31m \u001b[0mdata\u001b[0m \u001b[0;34m=\u001b[0m \u001b[0;34m{\u001b[0m\u001b[0;34m}\u001b[0m\u001b[0;34m\u001b[0m\u001b[0;34m\u001b[0m\u001b[0m\n\u001b[0m\u001b[1;32m      3\u001b[0m \u001b[0;32mfor\u001b[0m \u001b[0mkey\u001b[0m \u001b[0;32min\u001b[0m \u001b[0mdf_new\u001b[0m\u001b[0;34m.\u001b[0m\u001b[0mkey\u001b[0m\u001b[0;34m(\u001b[0m\u001b[0;34m)\u001b[0m\u001b[0;34m:\u001b[0m\u001b[0;34m\u001b[0m\u001b[0;34m\u001b[0m\u001b[0m\n\u001b[1;32m      4\u001b[0m     \u001b[0mpair\u001b[0m \u001b[0;34m=\u001b[0m \u001b[0;34m[\u001b[0m\u001b[0;34m]\u001b[0m\u001b[0;34m\u001b[0m\u001b[0;34m\u001b[0m\u001b[0m\n\u001b[1;32m      5\u001b[0m     \u001b[0mmean\u001b[0m \u001b[0;34m=\u001b[0m \u001b[0mdf_new\u001b[0m\u001b[0;34m[\u001b[0m\u001b[0mkey\u001b[0m\u001b[0;34m]\u001b[0m\u001b[0;34m.\u001b[0m\u001b[0msum\u001b[0m\u001b[0;34m(\u001b[0m\u001b[0;34m)\u001b[0m \u001b[0;34m/\u001b[0m \u001b[0mlen\u001b[0m\u001b[0;34m(\u001b[0m\u001b[0mshow\u001b[0m\u001b[0;34m)\u001b[0m\u001b[0;34m\u001b[0m\u001b[0;34m\u001b[0m\u001b[0m\n",
      "\u001b[0;32m~/opt/anaconda3/lib/python3.9/site-packages/pandas/core/generic.py\u001b[0m in \u001b[0;36m?\u001b[0;34m(self, name)\u001b[0m\n\u001b[1;32m   5985\u001b[0m             \u001b[0;32mand\u001b[0m \u001b[0mname\u001b[0m \u001b[0;32mnot\u001b[0m \u001b[0;32min\u001b[0m \u001b[0mself\u001b[0m\u001b[0;34m.\u001b[0m\u001b[0m_accessors\u001b[0m\u001b[0;34m\u001b[0m\u001b[0;34m\u001b[0m\u001b[0m\n\u001b[1;32m   5986\u001b[0m             \u001b[0;32mand\u001b[0m \u001b[0mself\u001b[0m\u001b[0;34m.\u001b[0m\u001b[0m_info_axis\u001b[0m\u001b[0;34m.\u001b[0m\u001b[0m_can_hold_identifiers_and_holds_name\u001b[0m\u001b[0;34m(\u001b[0m\u001b[0mname\u001b[0m\u001b[0;34m)\u001b[0m\u001b[0;34m\u001b[0m\u001b[0;34m\u001b[0m\u001b[0m\n\u001b[1;32m   5987\u001b[0m         ):\n\u001b[1;32m   5988\u001b[0m             \u001b[0;32mreturn\u001b[0m \u001b[0mself\u001b[0m\u001b[0;34m[\u001b[0m\u001b[0mname\u001b[0m\u001b[0;34m]\u001b[0m\u001b[0;34m\u001b[0m\u001b[0;34m\u001b[0m\u001b[0m\n\u001b[0;32m-> 5989\u001b[0;31m         \u001b[0;32mreturn\u001b[0m \u001b[0mobject\u001b[0m\u001b[0;34m.\u001b[0m\u001b[0m__getattribute__\u001b[0m\u001b[0;34m(\u001b[0m\u001b[0mself\u001b[0m\u001b[0;34m,\u001b[0m \u001b[0mname\u001b[0m\u001b[0;34m)\u001b[0m\u001b[0;34m\u001b[0m\u001b[0;34m\u001b[0m\u001b[0m\n\u001b[0m",
      "\u001b[0;31mAttributeError\u001b[0m: 'DataFrame' object has no attribute 'key'"
     ]
    }
   ],
   "source": [
    "data = {}\n",
    "for key in df_new.key():\n",
    "    pair = []\n",
    "    mean = df_new[key].sum() / len(show)\n",
    "    sd = df_new[key].std()\n",
    "    pair.append[mean]\n",
    "    pair.append[sd]\n",
    "    data[key] = pair\n",
    "    "
   ]
  },
  {
   "cell_type": "code",
   "execution_count": null,
   "id": "36d8cbb3",
   "metadata": {},
   "outputs": [],
   "source": []
  },
  {
   "cell_type": "code",
   "execution_count": null,
   "id": "a10213ff",
   "metadata": {},
   "outputs": [],
   "source": []
  }
 ],
 "metadata": {
  "kernelspec": {
   "display_name": "Python 3 (ipykernel)",
   "language": "python",
   "name": "python3"
  },
  "language_info": {
   "codemirror_mode": {
    "name": "ipython",
    "version": 3
   },
   "file_extension": ".py",
   "mimetype": "text/x-python",
   "name": "python",
   "nbconvert_exporter": "python",
   "pygments_lexer": "ipython3",
   "version": "3.9.17"
  }
 },
 "nbformat": 4,
 "nbformat_minor": 5
}
